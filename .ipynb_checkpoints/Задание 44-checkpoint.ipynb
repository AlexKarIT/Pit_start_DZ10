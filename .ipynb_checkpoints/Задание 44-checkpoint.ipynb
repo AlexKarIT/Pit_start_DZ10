{
 "cells": [
  {
   "cell_type": "code",
   "execution_count": 4,
   "id": "b7875f36-63a4-42db-b6a3-b94717bb1c5d",
   "metadata": {},
   "outputs": [
    {
     "ename": "ModuleNotFoundError",
     "evalue": "No module named 'numpy'",
     "output_type": "error",
     "traceback": [
      "\u001b[1;31m---------------------------------------------------------------------------\u001b[0m",
      "\u001b[1;31mModuleNotFoundError\u001b[0m                       Traceback (most recent call last)",
      "Cell \u001b[1;32mIn[4], line 1\u001b[0m\n\u001b[1;32m----> 1\u001b[0m \u001b[39mimport\u001b[39;00m \u001b[39mnumpy\u001b[39;00m \u001b[39mas\u001b[39;00m \u001b[39mnp\u001b[39;00m\n",
      "\u001b[1;31mModuleNotFoundError\u001b[0m: No module named 'numpy'"
     ]
    }
   ],
   "source": [
    "import numpy as np"
   ]
  },
  {
   "cell_type": "code",
   "execution_count": null,
   "id": "d2e4ba07",
   "metadata": {},
   "outputs": [],
   "source": [
    "import numpy as np"
   ]
  },
  {
   "cell_type": "code",
   "execution_count": null,
   "id": "41800bfd",
   "metadata": {},
   "outputs": [],
   "source": [
    "import random"
   ]
  },
  {
   "cell_type": "code",
   "execution_count": null,
   "id": "4c0e2884",
   "metadata": {},
   "outputs": [],
   "source": [
    "lst = ['robot'] * 10"
   ]
  },
  {
   "cell_type": "code",
   "execution_count": null,
   "id": "e1421b1e",
   "metadata": {},
   "outputs": [],
   "source": [
    "lst += ['human'] * 10"
   ]
  },
  {
   "cell_type": "code",
   "execution_count": null,
   "id": "58699be5",
   "metadata": {},
   "outputs": [],
   "source": [
    "random.shuffle(lst)"
   ]
  },
  {
   "cell_type": "code",
   "execution_count": null,
   "id": "09a9323e",
   "metadata": {},
   "outputs": [],
   "source": [
    "data = pd.DataFrame({'whoAmI': lst})"
   ]
  },
  {
   "cell_type": "code",
   "execution_count": null,
   "id": "2c1e36f8",
   "metadata": {},
   "outputs": [],
   "source": [
    "print(data)"
   ]
  },
  {
   "cell_type": "code",
   "execution_count": null,
   "id": "c3e7bcf8",
   "metadata": {},
   "outputs": [],
   "source": [
    "data['tmp'] = 1"
   ]
  },
  {
   "cell_type": "code",
   "execution_count": null,
   "id": "7be6fb9e",
   "metadata": {},
   "outputs": [],
   "source": [
    "data.set_index([data.index, 'whoAmI'], inplace=True)"
   ]
  },
  {
   "cell_type": "code",
   "execution_count": null,
   "id": "4134c837",
   "metadata": {},
   "outputs": [],
   "source": [
    "data = data.unstack(level=-1, fill_value = 0).astype(int)"
   ]
  },
  {
   "cell_type": "code",
   "execution_count": null,
   "id": "5ea78fb6",
   "metadata": {},
   "outputs": [],
   "source": [
    "data.columns = data.columns.droplevel()"
   ]
  },
  {
   "cell_type": "code",
   "execution_count": null,
   "id": "5bf02da1",
   "metadata": {},
   "outputs": [],
   "source": [
    "data.columns.name = None"
   ]
  },
  {
   "cell_type": "code",
   "execution_count": 3,
   "id": "67698977",
   "metadata": {},
   "outputs": [
    {
     "ename": "NameError",
     "evalue": "name 'data' is not defined",
     "output_type": "error",
     "traceback": [
      "\u001b[1;31m---------------------------------------------------------------------------\u001b[0m",
      "\u001b[1;31mNameError\u001b[0m                                 Traceback (most recent call last)",
      "Cell \u001b[1;32mIn[3], line 1\u001b[0m\n\u001b[1;32m----> 1\u001b[0m \u001b[39mprint\u001b[39m(data)\n",
      "\u001b[1;31mNameError\u001b[0m: name 'data' is not defined"
     ]
    }
   ],
   "source": [
    "print(data)"
   ]
  }
 ],
 "metadata": {
  "kernelspec": {
   "display_name": "Python 3 (ipykernel)",
   "language": "python",
   "name": "python3"
  },
  "language_info": {
   "codemirror_mode": {
    "name": "ipython",
    "version": 3
   },
   "file_extension": ".py",
   "mimetype": "text/x-python",
   "name": "python",
   "nbconvert_exporter": "python",
   "pygments_lexer": "ipython3",
   "version": "3.11.1"
  }
 },
 "nbformat": 4,
 "nbformat_minor": 5
}
