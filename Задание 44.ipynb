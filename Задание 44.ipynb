{
 "cells": [
  {
   "cell_type": "code",
   "execution_count": 3,
   "id": "0ae5fe17-a1b5-4366-8d51-7e9f9b040a76",
   "metadata": {},
   "outputs": [],
   "source": [
    "import pandas as pd "
   ]
  },
  {
   "cell_type": "code",
   "execution_count": 4,
   "id": "b7875f36-63a4-42db-b6a3-b94717bb1c5d",
   "metadata": {},
   "outputs": [],
   "source": [
    "import numpy as np"
   ]
  },
  {
   "cell_type": "code",
   "execution_count": 5,
   "id": "ee12ac11-7767-4639-87f6-7864a73f71bf",
   "metadata": {},
   "outputs": [],
   "source": [
    "import random"
   ]
  },
  {
   "cell_type": "code",
   "execution_count": 6,
   "id": "48a922f3-34ae-4b57-b792-1c1317788dec",
   "metadata": {},
   "outputs": [],
   "source": [
    "lst = ['robot'] * 10"
   ]
  },
  {
   "cell_type": "code",
   "execution_count": 7,
   "id": "3191b368-f68e-4d69-8ed0-1af9ed907839",
   "metadata": {},
   "outputs": [],
   "source": [
    "lst += ['human'] * 10"
   ]
  },
  {
   "cell_type": "code",
   "execution_count": 17,
   "id": "4e1db6e5-767d-471a-bc79-c024a4b005d6",
   "metadata": {},
   "outputs": [],
   "source": [
    "random.shuffle(lst)"
   ]
  },
  {
   "cell_type": "code",
   "execution_count": 18,
   "id": "04eb2abf-390c-465f-9fd8-11e3431fe5bd",
   "metadata": {},
   "outputs": [],
   "source": [
    "data = pd.DataFrame({'whoAmI': lst})"
   ]
  },
  {
   "cell_type": "code",
   "execution_count": 19,
   "id": "ce9d8c9c-0c8a-47cf-ba79-939bffbf974e",
   "metadata": {},
   "outputs": [
    {
     "name": "stdout",
     "output_type": "stream",
     "text": [
      "   whoAmI\n",
      "0   human\n",
      "1   human\n",
      "2   human\n",
      "3   robot\n",
      "4   human\n",
      "5   robot\n",
      "6   robot\n",
      "7   human\n",
      "8   robot\n",
      "9   robot\n",
      "10  human\n",
      "11  robot\n",
      "12  robot\n",
      "13  human\n",
      "14  human\n",
      "15  human\n",
      "16  robot\n",
      "17  human\n",
      "18  robot\n",
      "19  robot\n"
     ]
    }
   ],
   "source": [
    "print(data)"
   ]
  },
  {
   "cell_type": "code",
   "execution_count": 20,
   "id": "27e249d6-20b7-4335-8b33-23cb95c23b35",
   "metadata": {},
   "outputs": [],
   "source": [
    "data['tmp'] = 1"
   ]
  },
  {
   "cell_type": "code",
   "execution_count": 21,
   "id": "481aa06f-b0d6-44d9-b7fe-d27b751e05e6",
   "metadata": {},
   "outputs": [],
   "source": [
    "data.set_index([data.index, 'whoAmI'], inplace=True)"
   ]
  },
  {
   "cell_type": "code",
   "execution_count": 22,
   "id": "db97d2ac-5cfb-4c19-b601-04b73fece9ce",
   "metadata": {},
   "outputs": [],
   "source": [
    "data = data.unstack(level=-1, fill_value = 0).astype(int)"
   ]
  },
  {
   "cell_type": "code",
   "execution_count": 23,
   "id": "86e2c7df-291f-4d14-aa7e-9bcceae274f1",
   "metadata": {},
   "outputs": [],
   "source": [
    "data.columns = data.columns.droplevel()"
   ]
  },
  {
   "cell_type": "code",
   "execution_count": 24,
   "id": "6dd36ae6-8d93-48b7-9c60-ae0f6dea4a98",
   "metadata": {},
   "outputs": [],
   "source": [
    "data.columns.name = None"
   ]
  },
  {
   "cell_type": "code",
   "execution_count": 16,
   "id": "a99f70ac-e37b-4d65-be27-d7d81c1593e0",
   "metadata": {},
   "outputs": [
    {
     "name": "stdout",
     "output_type": "stream",
     "text": [
      "    human  robot\n",
      "0       1      0\n",
      "1       0      1\n",
      "2       0      1\n",
      "3       1      0\n",
      "4       1      0\n",
      "5       0      1\n",
      "6       0      1\n",
      "7       1      0\n",
      "8       0      1\n",
      "9       1      0\n",
      "10      1      0\n",
      "11      0      1\n",
      "12      1      0\n",
      "13      0      1\n",
      "14      1      0\n",
      "15      1      0\n",
      "16      0      1\n",
      "17      1      0\n",
      "18      0      1\n",
      "19      0      1\n"
     ]
    }
   ],
   "source": [
    "print(data)"
   ]
  }
 ],
 "metadata": {
  "kernelspec": {
   "display_name": "Python 3 (ipykernel)",
   "language": "python",
   "name": "python3"
  },
  "language_info": {
   "codemirror_mode": {
    "name": "ipython",
    "version": 3
   },
   "file_extension": ".py",
   "mimetype": "text/x-python",
   "name": "python",
   "nbconvert_exporter": "python",
   "pygments_lexer": "ipython3",
   "version": "3.10.9"
  }
 },
 "nbformat": 4,
 "nbformat_minor": 5
}
